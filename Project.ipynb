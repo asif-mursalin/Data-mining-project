{
 "cells": [
  {
   "cell_type": "markdown",
   "metadata": {
    "cell_id": "8d796b9c0b20431487e92d6422a7f137",
    "deepnote_cell_type": "markdown"
   },
   "source": [
    "# Data Mining Project\n",
    "## From Reservation to Check-In: Data-Driven Insights for Optimizing Hotel Bookings - Predicting Cancellations and Understanding Customer Preferences\n",
    "### Asif Mursalin - 60100148\n",
    "### Ashraf Salem - 60104564\n",
    "### Mehdi Bouktib - 60105112 "
   ]
  },
  {
   "cell_type": "markdown",
   "metadata": {},
   "source": [
    "```bash\n",
    "pip install -r requirements.txt\n",
    "```"
   ]
  },
  {
   "cell_type": "code",
   "execution_count": 31,
   "metadata": {
    "cell_id": "b9735c470341429c8878b3a26089d388",
    "deepnote_cell_type": "code",
    "execution_context_id": "a49e79a0-47bb-4135-b22c-6f27ba43e434",
    "execution_millis": 2064,
    "execution_start": 1730353440145,
    "source_hash": "bad9041b"
   },
   "outputs": [],
   "source": [
    "import pandas as pd\n",
    "import numpy as np \n",
    "import matplotlib.pyplot as plt\n",
    "import plotly.express as px\n",
    "import seaborn as sns\n",
    "import copy"
   ]
  },
  {
   "cell_type": "code",
   "execution_count": 32,
   "metadata": {
    "cell_id": "8f8b841798124d68bdb6e72b5057cb4c",
    "deepnote_cell_type": "code",
    "execution_context_id": "a49e79a0-47bb-4135-b22c-6f27ba43e434",
    "execution_millis": 1884,
    "execution_start": 1730353442260,
    "source_hash": "7fe22e8b"
   },
   "outputs": [],
   "source": [
    "df = pd.read_csv(\"hotel_bookings_raw.csv\")"
   ]
  },
  {
   "cell_type": "markdown",
   "metadata": {
    "cell_id": "e211dd1a26984b1c8825fccaf2bec47e",
    "deepnote_cell_type": "markdown"
   },
   "source": [
    "First 5 rows"
   ]
  },
  {
   "cell_type": "code",
   "execution_count": 33,
   "metadata": {
    "cell_id": "0e89badeccf24e1182de8070a012f8b0",
    "deepnote_cell_type": "code",
    "execution_context_id": "a49e79a0-47bb-4135-b22c-6f27ba43e434",
    "execution_millis": 106,
    "execution_start": 1730353444200,
    "source_hash": "c085b6ba"
   },
   "outputs": [
    {
     "data": {
      "text/html": [
       "<div>\n",
       "<style scoped>\n",
       "    .dataframe tbody tr th:only-of-type {\n",
       "        vertical-align: middle;\n",
       "    }\n",
       "\n",
       "    .dataframe tbody tr th {\n",
       "        vertical-align: top;\n",
       "    }\n",
       "\n",
       "    .dataframe thead th {\n",
       "        text-align: right;\n",
       "    }\n",
       "</style>\n",
       "<table border=\"1\" class=\"dataframe\">\n",
       "  <thead>\n",
       "    <tr style=\"text-align: right;\">\n",
       "      <th></th>\n",
       "      <th>hotel</th>\n",
       "      <th>is_canceled</th>\n",
       "      <th>lead_time</th>\n",
       "      <th>arrival_date_year</th>\n",
       "      <th>arrival_date_month</th>\n",
       "      <th>arrival_date_week_number</th>\n",
       "      <th>arrival_date_day_of_month</th>\n",
       "      <th>stays_in_weekend_nights</th>\n",
       "      <th>stays_in_week_nights</th>\n",
       "      <th>adults</th>\n",
       "      <th>...</th>\n",
       "      <th>INFLATION</th>\n",
       "      <th>INFLATION_CHG</th>\n",
       "      <th>CSMR_SENT</th>\n",
       "      <th>UNRATE</th>\n",
       "      <th>INTRSRT</th>\n",
       "      <th>GDP</th>\n",
       "      <th>FUEL_PRCS</th>\n",
       "      <th>CPI_HOTELS</th>\n",
       "      <th>US_GINI</th>\n",
       "      <th>DIS_INC</th>\n",
       "    </tr>\n",
       "  </thead>\n",
       "  <tbody>\n",
       "    <tr>\n",
       "      <th>0</th>\n",
       "      <td>Resort Hotel</td>\n",
       "      <td>0</td>\n",
       "      <td>342</td>\n",
       "      <td>2015</td>\n",
       "      <td>July</td>\n",
       "      <td>27</td>\n",
       "      <td>1</td>\n",
       "      <td>0</td>\n",
       "      <td>0</td>\n",
       "      <td>2</td>\n",
       "      <td>...</td>\n",
       "      <td>1.8</td>\n",
       "      <td>0.0</td>\n",
       "      <td>93.1</td>\n",
       "      <td>5.3</td>\n",
       "      <td>0.75</td>\n",
       "      <td>18306.96</td>\n",
       "      <td>194.0</td>\n",
       "      <td>0.187566</td>\n",
       "      <td>41.2</td>\n",
       "      <td>41355.0</td>\n",
       "    </tr>\n",
       "    <tr>\n",
       "      <th>1</th>\n",
       "      <td>Resort Hotel</td>\n",
       "      <td>0</td>\n",
       "      <td>737</td>\n",
       "      <td>2015</td>\n",
       "      <td>July</td>\n",
       "      <td>27</td>\n",
       "      <td>1</td>\n",
       "      <td>0</td>\n",
       "      <td>0</td>\n",
       "      <td>2</td>\n",
       "      <td>...</td>\n",
       "      <td>1.8</td>\n",
       "      <td>0.0</td>\n",
       "      <td>93.1</td>\n",
       "      <td>5.3</td>\n",
       "      <td>0.75</td>\n",
       "      <td>18306.96</td>\n",
       "      <td>194.0</td>\n",
       "      <td>0.187566</td>\n",
       "      <td>41.2</td>\n",
       "      <td>41355.0</td>\n",
       "    </tr>\n",
       "    <tr>\n",
       "      <th>2</th>\n",
       "      <td>Resort Hotel</td>\n",
       "      <td>0</td>\n",
       "      <td>7</td>\n",
       "      <td>2015</td>\n",
       "      <td>July</td>\n",
       "      <td>27</td>\n",
       "      <td>1</td>\n",
       "      <td>0</td>\n",
       "      <td>1</td>\n",
       "      <td>1</td>\n",
       "      <td>...</td>\n",
       "      <td>1.8</td>\n",
       "      <td>0.0</td>\n",
       "      <td>93.1</td>\n",
       "      <td>5.3</td>\n",
       "      <td>0.75</td>\n",
       "      <td>18306.96</td>\n",
       "      <td>194.0</td>\n",
       "      <td>0.187566</td>\n",
       "      <td>41.2</td>\n",
       "      <td>41355.0</td>\n",
       "    </tr>\n",
       "    <tr>\n",
       "      <th>3</th>\n",
       "      <td>Resort Hotel</td>\n",
       "      <td>0</td>\n",
       "      <td>13</td>\n",
       "      <td>2015</td>\n",
       "      <td>July</td>\n",
       "      <td>27</td>\n",
       "      <td>1</td>\n",
       "      <td>0</td>\n",
       "      <td>1</td>\n",
       "      <td>1</td>\n",
       "      <td>...</td>\n",
       "      <td>1.8</td>\n",
       "      <td>0.0</td>\n",
       "      <td>93.1</td>\n",
       "      <td>5.3</td>\n",
       "      <td>0.75</td>\n",
       "      <td>18306.96</td>\n",
       "      <td>194.0</td>\n",
       "      <td>0.187566</td>\n",
       "      <td>41.2</td>\n",
       "      <td>41355.0</td>\n",
       "    </tr>\n",
       "    <tr>\n",
       "      <th>4</th>\n",
       "      <td>Resort Hotel</td>\n",
       "      <td>0</td>\n",
       "      <td>14</td>\n",
       "      <td>2015</td>\n",
       "      <td>July</td>\n",
       "      <td>27</td>\n",
       "      <td>1</td>\n",
       "      <td>0</td>\n",
       "      <td>2</td>\n",
       "      <td>2</td>\n",
       "      <td>...</td>\n",
       "      <td>1.8</td>\n",
       "      <td>0.0</td>\n",
       "      <td>93.1</td>\n",
       "      <td>5.3</td>\n",
       "      <td>0.75</td>\n",
       "      <td>18306.96</td>\n",
       "      <td>194.0</td>\n",
       "      <td>0.187566</td>\n",
       "      <td>41.2</td>\n",
       "      <td>41355.0</td>\n",
       "    </tr>\n",
       "  </tbody>\n",
       "</table>\n",
       "<p>5 rows × 43 columns</p>\n",
       "</div>"
      ],
      "text/plain": [
       "          hotel  is_canceled  lead_time  arrival_date_year arrival_date_month  \\\n",
       "0  Resort Hotel            0        342               2015               July   \n",
       "1  Resort Hotel            0        737               2015               July   \n",
       "2  Resort Hotel            0          7               2015               July   \n",
       "3  Resort Hotel            0         13               2015               July   \n",
       "4  Resort Hotel            0         14               2015               July   \n",
       "\n",
       "   arrival_date_week_number  arrival_date_day_of_month  \\\n",
       "0                        27                          1   \n",
       "1                        27                          1   \n",
       "2                        27                          1   \n",
       "3                        27                          1   \n",
       "4                        27                          1   \n",
       "\n",
       "   stays_in_weekend_nights  stays_in_week_nights  adults  ...  INFLATION  \\\n",
       "0                        0                     0       2  ...        1.8   \n",
       "1                        0                     0       2  ...        1.8   \n",
       "2                        0                     1       1  ...        1.8   \n",
       "3                        0                     1       1  ...        1.8   \n",
       "4                        0                     2       2  ...        1.8   \n",
       "\n",
       "   INFLATION_CHG CSMR_SENT UNRATE INTRSRT       GDP  FUEL_PRCS  CPI_HOTELS  \\\n",
       "0            0.0      93.1    5.3    0.75  18306.96      194.0    0.187566   \n",
       "1            0.0      93.1    5.3    0.75  18306.96      194.0    0.187566   \n",
       "2            0.0      93.1    5.3    0.75  18306.96      194.0    0.187566   \n",
       "3            0.0      93.1    5.3    0.75  18306.96      194.0    0.187566   \n",
       "4            0.0      93.1    5.3    0.75  18306.96      194.0    0.187566   \n",
       "\n",
       "   US_GINI  DIS_INC  \n",
       "0     41.2  41355.0  \n",
       "1     41.2  41355.0  \n",
       "2     41.2  41355.0  \n",
       "3     41.2  41355.0  \n",
       "4     41.2  41355.0  \n",
       "\n",
       "[5 rows x 43 columns]"
      ]
     },
     "execution_count": 33,
     "metadata": {},
     "output_type": "execute_result"
    }
   ],
   "source": [
    "df.head()"
   ]
  },
  {
   "cell_type": "markdown",
   "metadata": {
    "cell_id": "7a4e54f29f5d4dfeaef4254efa37b8ae",
    "deepnote_cell_type": "markdown"
   },
   "source": [
    "Last 10 rows"
   ]
  },
  {
   "cell_type": "code",
   "execution_count": 34,
   "metadata": {
    "cell_id": "3c29d16990c94a55b3800484de7d2e9f",
    "deepnote_cell_type": "code",
    "execution_context_id": "a49e79a0-47bb-4135-b22c-6f27ba43e434",
    "execution_millis": 71,
    "execution_start": 1730353444365,
    "source_hash": "838c0c28"
   },
   "outputs": [
    {
     "data": {
      "text/html": [
       "<div>\n",
       "<style scoped>\n",
       "    .dataframe tbody tr th:only-of-type {\n",
       "        vertical-align: middle;\n",
       "    }\n",
       "\n",
       "    .dataframe tbody tr th {\n",
       "        vertical-align: top;\n",
       "    }\n",
       "\n",
       "    .dataframe thead th {\n",
       "        text-align: right;\n",
       "    }\n",
       "</style>\n",
       "<table border=\"1\" class=\"dataframe\">\n",
       "  <thead>\n",
       "    <tr style=\"text-align: right;\">\n",
       "      <th></th>\n",
       "      <th>hotel</th>\n",
       "      <th>is_canceled</th>\n",
       "      <th>lead_time</th>\n",
       "      <th>arrival_date_year</th>\n",
       "      <th>arrival_date_month</th>\n",
       "      <th>arrival_date_week_number</th>\n",
       "      <th>arrival_date_day_of_month</th>\n",
       "      <th>stays_in_weekend_nights</th>\n",
       "      <th>stays_in_week_nights</th>\n",
       "      <th>adults</th>\n",
       "      <th>...</th>\n",
       "      <th>INFLATION</th>\n",
       "      <th>INFLATION_CHG</th>\n",
       "      <th>CSMR_SENT</th>\n",
       "      <th>UNRATE</th>\n",
       "      <th>INTRSRT</th>\n",
       "      <th>GDP</th>\n",
       "      <th>FUEL_PRCS</th>\n",
       "      <th>CPI_HOTELS</th>\n",
       "      <th>US_GINI</th>\n",
       "      <th>DIS_INC</th>\n",
       "    </tr>\n",
       "  </thead>\n",
       "  <tbody>\n",
       "    <tr>\n",
       "      <th>119385</th>\n",
       "      <td>City Hotel</td>\n",
       "      <td>0</td>\n",
       "      <td>23</td>\n",
       "      <td>2017</td>\n",
       "      <td>August</td>\n",
       "      <td>35</td>\n",
       "      <td>30</td>\n",
       "      <td>2</td>\n",
       "      <td>5</td>\n",
       "      <td>2</td>\n",
       "      <td>...</td>\n",
       "      <td>1.7</td>\n",
       "      <td>0.0</td>\n",
       "      <td>95.1</td>\n",
       "      <td>4.4</td>\n",
       "      <td>1.75</td>\n",
       "      <td>19561.896</td>\n",
       "      <td>204.2</td>\n",
       "      <td>0.151972</td>\n",
       "      <td>41.2</td>\n",
       "      <td>42834.0</td>\n",
       "    </tr>\n",
       "    <tr>\n",
       "      <th>119386</th>\n",
       "      <td>City Hotel</td>\n",
       "      <td>0</td>\n",
       "      <td>102</td>\n",
       "      <td>2017</td>\n",
       "      <td>August</td>\n",
       "      <td>35</td>\n",
       "      <td>31</td>\n",
       "      <td>2</td>\n",
       "      <td>5</td>\n",
       "      <td>3</td>\n",
       "      <td>...</td>\n",
       "      <td>1.7</td>\n",
       "      <td>0.0</td>\n",
       "      <td>95.1</td>\n",
       "      <td>4.4</td>\n",
       "      <td>1.75</td>\n",
       "      <td>19561.896</td>\n",
       "      <td>204.2</td>\n",
       "      <td>0.151972</td>\n",
       "      <td>41.2</td>\n",
       "      <td>42834.0</td>\n",
       "    </tr>\n",
       "    <tr>\n",
       "      <th>119387</th>\n",
       "      <td>City Hotel</td>\n",
       "      <td>0</td>\n",
       "      <td>34</td>\n",
       "      <td>2017</td>\n",
       "      <td>August</td>\n",
       "      <td>35</td>\n",
       "      <td>31</td>\n",
       "      <td>2</td>\n",
       "      <td>5</td>\n",
       "      <td>2</td>\n",
       "      <td>...</td>\n",
       "      <td>1.7</td>\n",
       "      <td>0.0</td>\n",
       "      <td>95.1</td>\n",
       "      <td>4.4</td>\n",
       "      <td>1.75</td>\n",
       "      <td>19561.896</td>\n",
       "      <td>204.2</td>\n",
       "      <td>0.151972</td>\n",
       "      <td>41.2</td>\n",
       "      <td>42834.0</td>\n",
       "    </tr>\n",
       "    <tr>\n",
       "      <th>119388</th>\n",
       "      <td>City Hotel</td>\n",
       "      <td>0</td>\n",
       "      <td>109</td>\n",
       "      <td>2017</td>\n",
       "      <td>August</td>\n",
       "      <td>35</td>\n",
       "      <td>31</td>\n",
       "      <td>2</td>\n",
       "      <td>5</td>\n",
       "      <td>2</td>\n",
       "      <td>...</td>\n",
       "      <td>1.7</td>\n",
       "      <td>0.0</td>\n",
       "      <td>95.1</td>\n",
       "      <td>4.4</td>\n",
       "      <td>1.75</td>\n",
       "      <td>19561.896</td>\n",
       "      <td>204.2</td>\n",
       "      <td>0.151972</td>\n",
       "      <td>41.2</td>\n",
       "      <td>42834.0</td>\n",
       "    </tr>\n",
       "    <tr>\n",
       "      <th>119389</th>\n",
       "      <td>City Hotel</td>\n",
       "      <td>0</td>\n",
       "      <td>205</td>\n",
       "      <td>2017</td>\n",
       "      <td>August</td>\n",
       "      <td>35</td>\n",
       "      <td>29</td>\n",
       "      <td>2</td>\n",
       "      <td>7</td>\n",
       "      <td>2</td>\n",
       "      <td>...</td>\n",
       "      <td>1.7</td>\n",
       "      <td>0.0</td>\n",
       "      <td>95.1</td>\n",
       "      <td>4.4</td>\n",
       "      <td>1.75</td>\n",
       "      <td>19561.896</td>\n",
       "      <td>204.2</td>\n",
       "      <td>0.151972</td>\n",
       "      <td>41.2</td>\n",
       "      <td>42834.0</td>\n",
       "    </tr>\n",
       "  </tbody>\n",
       "</table>\n",
       "<p>5 rows × 43 columns</p>\n",
       "</div>"
      ],
      "text/plain": [
       "             hotel  is_canceled  lead_time  arrival_date_year  \\\n",
       "119385  City Hotel            0         23               2017   \n",
       "119386  City Hotel            0        102               2017   \n",
       "119387  City Hotel            0         34               2017   \n",
       "119388  City Hotel            0        109               2017   \n",
       "119389  City Hotel            0        205               2017   \n",
       "\n",
       "       arrival_date_month  arrival_date_week_number  \\\n",
       "119385             August                        35   \n",
       "119386             August                        35   \n",
       "119387             August                        35   \n",
       "119388             August                        35   \n",
       "119389             August                        35   \n",
       "\n",
       "        arrival_date_day_of_month  stays_in_weekend_nights  \\\n",
       "119385                         30                        2   \n",
       "119386                         31                        2   \n",
       "119387                         31                        2   \n",
       "119388                         31                        2   \n",
       "119389                         29                        2   \n",
       "\n",
       "        stays_in_week_nights  adults  ...  INFLATION  INFLATION_CHG CSMR_SENT  \\\n",
       "119385                     5       2  ...        1.7            0.0      95.1   \n",
       "119386                     5       3  ...        1.7            0.0      95.1   \n",
       "119387                     5       2  ...        1.7            0.0      95.1   \n",
       "119388                     5       2  ...        1.7            0.0      95.1   \n",
       "119389                     7       2  ...        1.7            0.0      95.1   \n",
       "\n",
       "       UNRATE INTRSRT        GDP  FUEL_PRCS  CPI_HOTELS  US_GINI  DIS_INC  \n",
       "119385    4.4    1.75  19561.896      204.2    0.151972     41.2  42834.0  \n",
       "119386    4.4    1.75  19561.896      204.2    0.151972     41.2  42834.0  \n",
       "119387    4.4    1.75  19561.896      204.2    0.151972     41.2  42834.0  \n",
       "119388    4.4    1.75  19561.896      204.2    0.151972     41.2  42834.0  \n",
       "119389    4.4    1.75  19561.896      204.2    0.151972     41.2  42834.0  \n",
       "\n",
       "[5 rows x 43 columns]"
      ]
     },
     "execution_count": 34,
     "metadata": {},
     "output_type": "execute_result"
    }
   ],
   "source": [
    "df.tail()"
   ]
  },
  {
   "cell_type": "code",
   "execution_count": 35,
   "metadata": {
    "cell_id": "4c85210c49ee455a8d7fc74c661de7ba",
    "deepnote_cell_type": "code",
    "execution_context_id": "a49e79a0-47bb-4135-b22c-6f27ba43e434",
    "execution_millis": 0,
    "execution_start": 1730353444485,
    "source_hash": "14f60b8f"
   },
   "outputs": [
    {
     "data": {
      "text/plain": [
       "(119390, 43)"
      ]
     },
     "execution_count": 35,
     "metadata": {},
     "output_type": "execute_result"
    }
   ],
   "source": [
    "df.shape"
   ]
  },
  {
   "cell_type": "markdown",
   "metadata": {},
   "source": [
    "# Hotel Booking Dataset Column Descriptions\n",
    "\n",
    "## 1. Booking Status and Basic Information\n",
    "- `hotel`: Type of hotel\n",
    "- `is_canceled`: Whether the booking was canceled (binary: 0/1)\n",
    "- `reservation_status`: Current status of the reservation\n",
    "- `reservation_status_date`: Date of the last status update\n",
    "\n",
    "## 2. Temporal Information\n",
    "- `lead_time`: Number of days between booking and arrival date\n",
    "- `arrival_date_year`: Year of arrival\n",
    "- `arrival_date_month`: Month of arrival\n",
    "- `arrival_date_week_number`: Week number of arrival\n",
    "- `arrival_date_day_of_month`: Day of month of arrival\n",
    "- `MO_YR`: Month and year combined\n",
    "\n",
    "## 3. Stay Details\n",
    "- `stays_in_weekend_nights`: Number of weekend nights booked\n",
    "- `stays_in_week_nights`: Number of weekday nights booked\n",
    "- `adults`: Number of adults\n",
    "- `children`: Number of children\n",
    "- `babies`: Number of babies\n",
    "\n",
    "## 4. Room and Service Information\n",
    "- `meal`: Type of meal plan\n",
    "- `reserved_room_type`: Type of room reserved\n",
    "- `assigned_room_type`: Type of room actually assigned\n",
    "- `required_car_parking_spaces`: Number of parking spaces needed\n",
    "- `total_of_special_requests`: Number of special requests made\n",
    "\n",
    "## 5. Customer Information\n",
    "- `country`: Country of origin\n",
    "- `is_repeated_guest`: Whether the guest has stayed before\n",
    "- `previous_cancellations`: Number of previous cancellations\n",
    "- `previous_bookings_not_canceled`: Number of previous non-canceled bookings\n",
    "- `customer_type`: Type of customer\n",
    "\n",
    "## 6. Business/Distribution Information\n",
    "- `market_segment`: Market segment (e.g., direct, corporate)\n",
    "- `distribution_channel`: Booking distribution channel\n",
    "- `agent`: ID of the travel agency\n",
    "- `booking_changes`: Number of changes made to the booking\n",
    "- `deposit_type`: Type of deposit made\n",
    "- `adr`: Average Daily Rate\n",
    "- `days_in_waiting_list`: Days spent on waiting list\n",
    "\n",
    "## 7. Economic Indicators\n",
    "- `CPI_AVG`: Consumer Price Index average\n",
    "- `INFLATION`: Inflation rate\n",
    "- `INFLATION_CHG`: Change in inflation\n",
    "- `CSMR_SENT`: Consumer sentiment\n",
    "- `UNRATE`: Unemployment rate\n",
    "- `INTRSRT`: Interest rate\n",
    "- `GDP`: Gross Domestic Product\n",
    "- `FUEL_PRCS`: Fuel prices\n",
    "- `CPI_HOTELS`: CPI specific to hotels\n",
    "- `US_GINI`: Gini coefficient (income inequality measure)\n",
    "- `DIS_INC`: Disposable income"
   ]
  },
  {
   "cell_type": "code",
   "execution_count": 36,
   "metadata": {
    "cell_id": "4dda8c14e213468a8d1ed5df2e0c2470",
    "deepnote_cell_type": "code",
    "execution_context_id": "a49e79a0-47bb-4135-b22c-6f27ba43e434",
    "execution_millis": 1,
    "execution_start": 1730353444536,
    "source_hash": "25d43fa0"
   },
   "outputs": [
    {
     "data": {
      "text/plain": [
       "Index(['hotel', 'is_canceled', 'lead_time', 'arrival_date_year',\n",
       "       'arrival_date_month', 'arrival_date_week_number',\n",
       "       'arrival_date_day_of_month', 'stays_in_weekend_nights',\n",
       "       'stays_in_week_nights', 'adults', 'children', 'babies', 'meal',\n",
       "       'country', 'market_segment', 'distribution_channel',\n",
       "       'is_repeated_guest', 'previous_cancellations',\n",
       "       'previous_bookings_not_canceled', 'reserved_room_type',\n",
       "       'assigned_room_type', 'booking_changes', 'deposit_type', 'agent',\n",
       "       'days_in_waiting_list', 'customer_type', 'adr',\n",
       "       'required_car_parking_spaces', 'total_of_special_requests',\n",
       "       'reservation_status', 'reservation_status_date', 'MO_YR', 'CPI_AVG',\n",
       "       'INFLATION', 'INFLATION_CHG', 'CSMR_SENT', 'UNRATE', 'INTRSRT', 'GDP',\n",
       "       'FUEL_PRCS', 'CPI_HOTELS', 'US_GINI', 'DIS_INC'],\n",
       "      dtype='object')"
      ]
     },
     "execution_count": 36,
     "metadata": {},
     "output_type": "execute_result"
    }
   ],
   "source": [
    "df.columns"
   ]
  },
  {
   "cell_type": "code",
   "execution_count": 37,
   "metadata": {
    "cell_id": "2944d1a3fb4b486f94bbf714cd32239d",
    "deepnote_cell_type": "code",
    "execution_context_id": "a49e79a0-47bb-4135-b22c-6f27ba43e434",
    "execution_millis": 1,
    "execution_start": 1730353444592,
    "source_hash": "52430027"
   },
   "outputs": [
    {
     "data": {
      "text/plain": [
       "hotel                              object\n",
       "is_canceled                         int64\n",
       "lead_time                           int64\n",
       "arrival_date_year                   int64\n",
       "arrival_date_month                 object\n",
       "arrival_date_week_number            int64\n",
       "arrival_date_day_of_month           int64\n",
       "stays_in_weekend_nights             int64\n",
       "stays_in_week_nights                int64\n",
       "adults                              int64\n",
       "children                          float64\n",
       "babies                              int64\n",
       "meal                               object\n",
       "country                            object\n",
       "market_segment                     object\n",
       "distribution_channel               object\n",
       "is_repeated_guest                   int64\n",
       "previous_cancellations              int64\n",
       "previous_bookings_not_canceled      int64\n",
       "reserved_room_type                 object\n",
       "assigned_room_type                 object\n",
       "booking_changes                     int64\n",
       "deposit_type                       object\n",
       "agent                             float64\n",
       "days_in_waiting_list                int64\n",
       "customer_type                      object\n",
       "adr                               float64\n",
       "required_car_parking_spaces         int64\n",
       "total_of_special_requests           int64\n",
       "reservation_status                 object\n",
       "reservation_status_date            object\n",
       "MO_YR                              object\n",
       "CPI_AVG                           float64\n",
       "INFLATION                         float64\n",
       "INFLATION_CHG                     float64\n",
       "CSMR_SENT                         float64\n",
       "UNRATE                            float64\n",
       "INTRSRT                           float64\n",
       "GDP                               float64\n",
       "FUEL_PRCS                         float64\n",
       "CPI_HOTELS                        float64\n",
       "US_GINI                           float64\n",
       "DIS_INC                           float64\n",
       "dtype: object"
      ]
     },
     "execution_count": 37,
     "metadata": {},
     "output_type": "execute_result"
    }
   ],
   "source": [
    "df.dtypes"
   ]
  },
  {
   "cell_type": "code",
   "execution_count": 38,
   "metadata": {},
   "outputs": [],
   "source": [
    "df['agent'] = df['agent'].astype('Int64')"
   ]
  },
  {
   "cell_type": "code",
   "execution_count": 39,
   "metadata": {},
   "outputs": [],
   "source": [
    "binary_columns = ['is_canceled', 'is_repeated_guest']\n",
    "\n",
    "# Date columns\n",
    "date_columns = [\n",
    "    'reservation_status_date'\n",
    "]\n",
    "\n",
    "# Numeric columns\n",
    "numeric_columns = [\n",
    "    'lead_time',\n",
    "    'arrival_date_year',\n",
    "    'arrival_date_week_number',\n",
    "    'arrival_date_day_of_month',\n",
    "    'stays_in_weekend_nights',\n",
    "    'stays_in_week_nights',\n",
    "    'adults',\n",
    "    'children',\n",
    "    'babies',\n",
    "    'is_repeated_guest',\n",
    "    'previous_cancellations',\n",
    "    'previous_bookings_not_canceled',\n",
    "    'booking_changes',\n",
    "    'days_in_waiting_list',\n",
    "    'adr',\n",
    "    'required_car_parking_spaces',\n",
    "    'total_of_special_requests',\n",
    "    'CPI_AVG',\n",
    "    'INFLATION',\n",
    "    'INFLATION_CHG',\n",
    "    'CSMR_SENT',\n",
    "    'UNRATE',\n",
    "    'INTRSRT',\n",
    "    'GDP',\n",
    "    'FUEL_PRCS',\n",
    "    'CPI_HOTELS',\n",
    "    'US_GINI',\n",
    "    'DIS_INC'\n",
    "]\n",
    "\n",
    "# Categorical columns\n",
    "categorical_columns = [\n",
    "    'hotel',\n",
    "    'arrival_date_month',\n",
    "    'meal',\n",
    "    'country',\n",
    "    'market_segment',\n",
    "    'distribution_channel',\n",
    "    'reserved_room_type',\n",
    "    'assigned_room_type',\n",
    "    'deposit_type',\n",
    "    'customer_type',\n",
    "    'reservation_status',\n",
    "    'agent' \n",
    "]"
   ]
  },
  {
   "cell_type": "code",
   "execution_count": 40,
   "metadata": {},
   "outputs": [],
   "source": [
    "def fix_datatypes(df):\n",
    "    # Make a copy to avoid modifying the original dataframe\n",
    "    df = copy.deepcopy(df)\n",
    "    \n",
    "    # Convert dates\n",
    "    for col in date_columns:\n",
    "        df[col] = pd.to_datetime(df[col])\n",
    "    \n",
    "    # Convert numeric columns\n",
    "    for col in numeric_columns:\n",
    "        df[col] = pd.to_numeric(df[col], errors='coerce')\n",
    "    \n",
    "    # Convert categorical columns\n",
    "    for col in categorical_columns:\n",
    "        df[col] = df[col].astype('category')\n",
    "    \n",
    "    # Convert binary columns\n",
    "    for col in binary_columns:\n",
    "        df[col] = df[col].astype('bool')\n",
    "    # Handle 'MO_YR' as string\n",
    "    df['MO_YR'] = df['MO_YR'].astype(str)\n",
    "    \n",
    "    return df"
   ]
  },
  {
   "cell_type": "code",
   "execution_count": 41,
   "metadata": {},
   "outputs": [
    {
     "data": {
      "text/plain": [
       "hotel                                   category\n",
       "is_canceled                                 bool\n",
       "lead_time                                  int64\n",
       "arrival_date_year                          int64\n",
       "arrival_date_month                      category\n",
       "arrival_date_week_number                   int64\n",
       "arrival_date_day_of_month                  int64\n",
       "stays_in_weekend_nights                    int64\n",
       "stays_in_week_nights                       int64\n",
       "adults                                     int64\n",
       "children                                 float64\n",
       "babies                                     int64\n",
       "meal                                    category\n",
       "country                                 category\n",
       "market_segment                          category\n",
       "distribution_channel                    category\n",
       "is_repeated_guest                           bool\n",
       "previous_cancellations                     int64\n",
       "previous_bookings_not_canceled             int64\n",
       "reserved_room_type                      category\n",
       "assigned_room_type                      category\n",
       "booking_changes                            int64\n",
       "deposit_type                            category\n",
       "agent                                   category\n",
       "days_in_waiting_list                       int64\n",
       "customer_type                           category\n",
       "adr                                      float64\n",
       "required_car_parking_spaces                int64\n",
       "total_of_special_requests                  int64\n",
       "reservation_status                      category\n",
       "reservation_status_date           datetime64[ns]\n",
       "MO_YR                                     object\n",
       "CPI_AVG                                  float64\n",
       "INFLATION                                float64\n",
       "INFLATION_CHG                            float64\n",
       "CSMR_SENT                                float64\n",
       "UNRATE                                   float64\n",
       "INTRSRT                                  float64\n",
       "GDP                                      float64\n",
       "FUEL_PRCS                                float64\n",
       "CPI_HOTELS                               float64\n",
       "US_GINI                                  float64\n",
       "DIS_INC                                  float64\n",
       "dtype: object"
      ]
     },
     "execution_count": 41,
     "metadata": {},
     "output_type": "execute_result"
    }
   ],
   "source": [
    "df = fix_datatypes(df)\n",
    "df.dtypes"
   ]
  },
  {
   "cell_type": "code",
   "execution_count": 42,
   "metadata": {
    "cell_id": "e64d36bca70e47c3a228e61aff3d05fd",
    "deepnote_cell_type": "code",
    "execution_context_id": "a49e79a0-47bb-4135-b22c-6f27ba43e434",
    "execution_millis": 0,
    "execution_start": 1730353446755,
    "source_hash": "9b45f9db"
   },
   "outputs": [
    {
     "name": "stderr",
     "output_type": "stream",
     "text": [
      "C:\\Users\\salem\\AppData\\Local\\Temp\\ipykernel_28112\\3460393484.py:1: FutureWarning:\n",
      "\n",
      "The default of observed=False is deprecated and will be changed to True in a future version of pandas. Pass observed=False to retain current behavior or observed=True to adopt the future default and silence this warning.\n",
      "\n"
     ]
    },
    {
     "data": {
      "text/plain": [
       "arrival_date_month  hotel       \n",
       "April               City Hotel      7480\n",
       "                    Resort Hotel    3609\n",
       "August              City Hotel      8983\n",
       "                    Resort Hotel    4894\n",
       "December            City Hotel      4132\n",
       "                    Resort Hotel    2648\n",
       "February            City Hotel      4965\n",
       "                    Resort Hotel    3103\n",
       "January             City Hotel      3736\n",
       "                    Resort Hotel    2193\n",
       "July                City Hotel      8088\n",
       "                    Resort Hotel    4573\n",
       "June                City Hotel      7894\n",
       "                    Resort Hotel    3045\n",
       "March               City Hotel      6458\n",
       "                    Resort Hotel    3336\n",
       "May                 City Hotel      8232\n",
       "                    Resort Hotel    3559\n",
       "November            City Hotel      4357\n",
       "                    Resort Hotel    2437\n",
       "October             City Hotel      7605\n",
       "                    Resort Hotel    3555\n",
       "September           City Hotel      7400\n",
       "                    Resort Hotel    3108\n",
       "dtype: int64"
      ]
     },
     "execution_count": 42,
     "metadata": {},
     "output_type": "execute_result"
    }
   ],
   "source": [
    "booking_by_month = df.groupby(['arrival_date_month', 'hotel']).size()\n",
    "booking_by_month"
   ]
  },
  {
   "cell_type": "code",
   "execution_count": 43,
   "metadata": {
    "cell_id": "fc9f09b14168467891aaeeceff6aaa65",
    "deepnote_cell_type": "code",
    "execution_context_id": "a49e79a0-47bb-4135-b22c-6f27ba43e434",
    "execution_millis": 151,
    "execution_start": 1730353446773,
    "source_hash": "1d44640a"
   },
   "outputs": [
    {
     "data": {
      "application/vnd.plotly.v1+json": {
       "config": {
        "plotlyServerURL": "https://plot.ly"
       },
       "data": [
        {
         "name": "Resort Hotel",
         "type": "bar",
         "visible": true,
         "x": [
          "January",
          "February",
          "March",
          "April",
          "May",
          "June",
          "July",
          "August",
          "September",
          "October",
          "November",
          "December"
         ],
         "y": [
          2193,
          3103,
          3336,
          3609,
          3559,
          3045,
          4573,
          4894,
          3108,
          3555,
          2437,
          2648
         ]
        },
        {
         "name": "City Hotel",
         "type": "bar",
         "visible": true,
         "x": [
          "January",
          "February",
          "March",
          "April",
          "May",
          "June",
          "July",
          "August",
          "September",
          "October",
          "November",
          "December"
         ],
         "y": [
          3736,
          4965,
          6458,
          7480,
          8232,
          7894,
          8088,
          8983,
          7400,
          7605,
          4357,
          4132
         ]
        }
       ],
       "layout": {
        "barmode": "group",
        "height": 600,
        "showlegend": true,
        "template": {
         "data": {
          "bar": [
           {
            "error_x": {
             "color": "#2a3f5f"
            },
            "error_y": {
             "color": "#2a3f5f"
            },
            "marker": {
             "line": {
              "color": "#E5ECF6",
              "width": 0.5
             },
             "pattern": {
              "fillmode": "overlay",
              "size": 10,
              "solidity": 0.2
             }
            },
            "type": "bar"
           }
          ],
          "barpolar": [
           {
            "marker": {
             "line": {
              "color": "#E5ECF6",
              "width": 0.5
             },
             "pattern": {
              "fillmode": "overlay",
              "size": 10,
              "solidity": 0.2
             }
            },
            "type": "barpolar"
           }
          ],
          "carpet": [
           {
            "aaxis": {
             "endlinecolor": "#2a3f5f",
             "gridcolor": "white",
             "linecolor": "white",
             "minorgridcolor": "white",
             "startlinecolor": "#2a3f5f"
            },
            "baxis": {
             "endlinecolor": "#2a3f5f",
             "gridcolor": "white",
             "linecolor": "white",
             "minorgridcolor": "white",
             "startlinecolor": "#2a3f5f"
            },
            "type": "carpet"
           }
          ],
          "choropleth": [
           {
            "colorbar": {
             "outlinewidth": 0,
             "ticks": ""
            },
            "type": "choropleth"
           }
          ],
          "contour": [
           {
            "colorbar": {
             "outlinewidth": 0,
             "ticks": ""
            },
            "colorscale": [
             [
              0,
              "#0d0887"
             ],
             [
              0.1111111111111111,
              "#46039f"
             ],
             [
              0.2222222222222222,
              "#7201a8"
             ],
             [
              0.3333333333333333,
              "#9c179e"
             ],
             [
              0.4444444444444444,
              "#bd3786"
             ],
             [
              0.5555555555555556,
              "#d8576b"
             ],
             [
              0.6666666666666666,
              "#ed7953"
             ],
             [
              0.7777777777777778,
              "#fb9f3a"
             ],
             [
              0.8888888888888888,
              "#fdca26"
             ],
             [
              1,
              "#f0f921"
             ]
            ],
            "type": "contour"
           }
          ],
          "contourcarpet": [
           {
            "colorbar": {
             "outlinewidth": 0,
             "ticks": ""
            },
            "type": "contourcarpet"
           }
          ],
          "heatmap": [
           {
            "colorbar": {
             "outlinewidth": 0,
             "ticks": ""
            },
            "colorscale": [
             [
              0,
              "#0d0887"
             ],
             [
              0.1111111111111111,
              "#46039f"
             ],
             [
              0.2222222222222222,
              "#7201a8"
             ],
             [
              0.3333333333333333,
              "#9c179e"
             ],
             [
              0.4444444444444444,
              "#bd3786"
             ],
             [
              0.5555555555555556,
              "#d8576b"
             ],
             [
              0.6666666666666666,
              "#ed7953"
             ],
             [
              0.7777777777777778,
              "#fb9f3a"
             ],
             [
              0.8888888888888888,
              "#fdca26"
             ],
             [
              1,
              "#f0f921"
             ]
            ],
            "type": "heatmap"
           }
          ],
          "heatmapgl": [
           {
            "colorbar": {
             "outlinewidth": 0,
             "ticks": ""
            },
            "colorscale": [
             [
              0,
              "#0d0887"
             ],
             [
              0.1111111111111111,
              "#46039f"
             ],
             [
              0.2222222222222222,
              "#7201a8"
             ],
             [
              0.3333333333333333,
              "#9c179e"
             ],
             [
              0.4444444444444444,
              "#bd3786"
             ],
             [
              0.5555555555555556,
              "#d8576b"
             ],
             [
              0.6666666666666666,
              "#ed7953"
             ],
             [
              0.7777777777777778,
              "#fb9f3a"
             ],
             [
              0.8888888888888888,
              "#fdca26"
             ],
             [
              1,
              "#f0f921"
             ]
            ],
            "type": "heatmapgl"
           }
          ],
          "histogram": [
           {
            "marker": {
             "pattern": {
              "fillmode": "overlay",
              "size": 10,
              "solidity": 0.2
             }
            },
            "type": "histogram"
           }
          ],
          "histogram2d": [
           {
            "colorbar": {
             "outlinewidth": 0,
             "ticks": ""
            },
            "colorscale": [
             [
              0,
              "#0d0887"
             ],
             [
              0.1111111111111111,
              "#46039f"
             ],
             [
              0.2222222222222222,
              "#7201a8"
             ],
             [
              0.3333333333333333,
              "#9c179e"
             ],
             [
              0.4444444444444444,
              "#bd3786"
             ],
             [
              0.5555555555555556,
              "#d8576b"
             ],
             [
              0.6666666666666666,
              "#ed7953"
             ],
             [
              0.7777777777777778,
              "#fb9f3a"
             ],
             [
              0.8888888888888888,
              "#fdca26"
             ],
             [
              1,
              "#f0f921"
             ]
            ],
            "type": "histogram2d"
           }
          ],
          "histogram2dcontour": [
           {
            "colorbar": {
             "outlinewidth": 0,
             "ticks": ""
            },
            "colorscale": [
             [
              0,
              "#0d0887"
             ],
             [
              0.1111111111111111,
              "#46039f"
             ],
             [
              0.2222222222222222,
              "#7201a8"
             ],
             [
              0.3333333333333333,
              "#9c179e"
             ],
             [
              0.4444444444444444,
              "#bd3786"
             ],
             [
              0.5555555555555556,
              "#d8576b"
             ],
             [
              0.6666666666666666,
              "#ed7953"
             ],
             [
              0.7777777777777778,
              "#fb9f3a"
             ],
             [
              0.8888888888888888,
              "#fdca26"
             ],
             [
              1,
              "#f0f921"
             ]
            ],
            "type": "histogram2dcontour"
           }
          ],
          "mesh3d": [
           {
            "colorbar": {
             "outlinewidth": 0,
             "ticks": ""
            },
            "type": "mesh3d"
           }
          ],
          "parcoords": [
           {
            "line": {
             "colorbar": {
              "outlinewidth": 0,
              "ticks": ""
             }
            },
            "type": "parcoords"
           }
          ],
          "pie": [
           {
            "automargin": true,
            "type": "pie"
           }
          ],
          "scatter": [
           {
            "fillpattern": {
             "fillmode": "overlay",
             "size": 10,
             "solidity": 0.2
            },
            "type": "scatter"
           }
          ],
          "scatter3d": [
           {
            "line": {
             "colorbar": {
              "outlinewidth": 0,
              "ticks": ""
             }
            },
            "marker": {
             "colorbar": {
              "outlinewidth": 0,
              "ticks": ""
             }
            },
            "type": "scatter3d"
           }
          ],
          "scattercarpet": [
           {
            "marker": {
             "colorbar": {
              "outlinewidth": 0,
              "ticks": ""
             }
            },
            "type": "scattercarpet"
           }
          ],
          "scattergeo": [
           {
            "marker": {
             "colorbar": {
              "outlinewidth": 0,
              "ticks": ""
             }
            },
            "type": "scattergeo"
           }
          ],
          "scattergl": [
           {
            "marker": {
             "colorbar": {
              "outlinewidth": 0,
              "ticks": ""
             }
            },
            "type": "scattergl"
           }
          ],
          "scattermapbox": [
           {
            "marker": {
             "colorbar": {
              "outlinewidth": 0,
              "ticks": ""
             }
            },
            "type": "scattermapbox"
           }
          ],
          "scatterpolar": [
           {
            "marker": {
             "colorbar": {
              "outlinewidth": 0,
              "ticks": ""
             }
            },
            "type": "scatterpolar"
           }
          ],
          "scatterpolargl": [
           {
            "marker": {
             "colorbar": {
              "outlinewidth": 0,
              "ticks": ""
             }
            },
            "type": "scatterpolargl"
           }
          ],
          "scatterternary": [
           {
            "marker": {
             "colorbar": {
              "outlinewidth": 0,
              "ticks": ""
             }
            },
            "type": "scatterternary"
           }
          ],
          "surface": [
           {
            "colorbar": {
             "outlinewidth": 0,
             "ticks": ""
            },
            "colorscale": [
             [
              0,
              "#0d0887"
             ],
             [
              0.1111111111111111,
              "#46039f"
             ],
             [
              0.2222222222222222,
              "#7201a8"
             ],
             [
              0.3333333333333333,
              "#9c179e"
             ],
             [
              0.4444444444444444,
              "#bd3786"
             ],
             [
              0.5555555555555556,
              "#d8576b"
             ],
             [
              0.6666666666666666,
              "#ed7953"
             ],
             [
              0.7777777777777778,
              "#fb9f3a"
             ],
             [
              0.8888888888888888,
              "#fdca26"
             ],
             [
              1,
              "#f0f921"
             ]
            ],
            "type": "surface"
           }
          ],
          "table": [
           {
            "cells": {
             "fill": {
              "color": "#EBF0F8"
             },
             "line": {
              "color": "white"
             }
            },
            "header": {
             "fill": {
              "color": "#C8D4E3"
             },
             "line": {
              "color": "white"
             }
            },
            "type": "table"
           }
          ]
         },
         "layout": {
          "annotationdefaults": {
           "arrowcolor": "#2a3f5f",
           "arrowhead": 0,
           "arrowwidth": 1
          },
          "autotypenumbers": "strict",
          "coloraxis": {
           "colorbar": {
            "outlinewidth": 0,
            "ticks": ""
           }
          },
          "colorscale": {
           "diverging": [
            [
             0,
             "#8e0152"
            ],
            [
             0.1,
             "#c51b7d"
            ],
            [
             0.2,
             "#de77ae"
            ],
            [
             0.3,
             "#f1b6da"
            ],
            [
             0.4,
             "#fde0ef"
            ],
            [
             0.5,
             "#f7f7f7"
            ],
            [
             0.6,
             "#e6f5d0"
            ],
            [
             0.7,
             "#b8e186"
            ],
            [
             0.8,
             "#7fbc41"
            ],
            [
             0.9,
             "#4d9221"
            ],
            [
             1,
             "#276419"
            ]
           ],
           "sequential": [
            [
             0,
             "#0d0887"
            ],
            [
             0.1111111111111111,
             "#46039f"
            ],
            [
             0.2222222222222222,
             "#7201a8"
            ],
            [
             0.3333333333333333,
             "#9c179e"
            ],
            [
             0.4444444444444444,
             "#bd3786"
            ],
            [
             0.5555555555555556,
             "#d8576b"
            ],
            [
             0.6666666666666666,
             "#ed7953"
            ],
            [
             0.7777777777777778,
             "#fb9f3a"
            ],
            [
             0.8888888888888888,
             "#fdca26"
            ],
            [
             1,
             "#f0f921"
            ]
           ],
           "sequentialminus": [
            [
             0,
             "#0d0887"
            ],
            [
             0.1111111111111111,
             "#46039f"
            ],
            [
             0.2222222222222222,
             "#7201a8"
            ],
            [
             0.3333333333333333,
             "#9c179e"
            ],
            [
             0.4444444444444444,
             "#bd3786"
            ],
            [
             0.5555555555555556,
             "#d8576b"
            ],
            [
             0.6666666666666666,
             "#ed7953"
            ],
            [
             0.7777777777777778,
             "#fb9f3a"
            ],
            [
             0.8888888888888888,
             "#fdca26"
            ],
            [
             1,
             "#f0f921"
            ]
           ]
          },
          "colorway": [
           "#636efa",
           "#EF553B",
           "#00cc96",
           "#ab63fa",
           "#FFA15A",
           "#19d3f3",
           "#FF6692",
           "#B6E880",
           "#FF97FF",
           "#FECB52"
          ],
          "font": {
           "color": "#2a3f5f"
          },
          "geo": {
           "bgcolor": "white",
           "lakecolor": "white",
           "landcolor": "#E5ECF6",
           "showlakes": true,
           "showland": true,
           "subunitcolor": "white"
          },
          "hoverlabel": {
           "align": "left"
          },
          "hovermode": "closest",
          "mapbox": {
           "style": "light"
          },
          "paper_bgcolor": "white",
          "plot_bgcolor": "#E5ECF6",
          "polar": {
           "angularaxis": {
            "gridcolor": "white",
            "linecolor": "white",
            "ticks": ""
           },
           "bgcolor": "#E5ECF6",
           "radialaxis": {
            "gridcolor": "white",
            "linecolor": "white",
            "ticks": ""
           }
          },
          "scene": {
           "xaxis": {
            "backgroundcolor": "#E5ECF6",
            "gridcolor": "white",
            "gridwidth": 2,
            "linecolor": "white",
            "showbackground": true,
            "ticks": "",
            "zerolinecolor": "white"
           },
           "yaxis": {
            "backgroundcolor": "#E5ECF6",
            "gridcolor": "white",
            "gridwidth": 2,
            "linecolor": "white",
            "showbackground": true,
            "ticks": "",
            "zerolinecolor": "white"
           },
           "zaxis": {
            "backgroundcolor": "#E5ECF6",
            "gridcolor": "white",
            "gridwidth": 2,
            "linecolor": "white",
            "showbackground": true,
            "ticks": "",
            "zerolinecolor": "white"
           }
          },
          "shapedefaults": {
           "line": {
            "color": "#2a3f5f"
           }
          },
          "ternary": {
           "aaxis": {
            "gridcolor": "white",
            "linecolor": "white",
            "ticks": ""
           },
           "baxis": {
            "gridcolor": "white",
            "linecolor": "white",
            "ticks": ""
           },
           "bgcolor": "#E5ECF6",
           "caxis": {
            "gridcolor": "white",
            "linecolor": "white",
            "ticks": ""
           }
          },
          "title": {
           "x": 0.05
          },
          "xaxis": {
           "automargin": true,
           "gridcolor": "white",
           "linecolor": "white",
           "ticks": "",
           "title": {
            "standoff": 15
           },
           "zerolinecolor": "white",
           "zerolinewidth": 2
          },
          "yaxis": {
           "automargin": true,
           "gridcolor": "white",
           "linecolor": "white",
           "ticks": "",
           "title": {
            "standoff": 15
           },
           "zerolinecolor": "white",
           "zerolinewidth": 2
          }
         }
        },
        "title": {
         "text": "Hotel Bookings Distribution"
        },
        "updatemenus": [
         {
          "buttons": [
           {
            "args": [
             {
              "visible": [
               true,
               true
              ]
             },
             {
              "title": "All Hotels Booking Distribution"
             }
            ],
            "label": "All Hotels",
            "method": "update"
           },
           {
            "args": [
             {
              "visible": [
               true,
               false
              ]
             },
             {
              "title": "Resort Hotel Booking Distribution"
             }
            ],
            "label": "Resort Hotel",
            "method": "update"
           },
           {
            "args": [
             {
              "visible": [
               false,
               true
              ]
             },
             {
              "title": "City Hotel Booking Distribution"
             }
            ],
            "label": "City Hotel",
            "method": "update"
           }
          ],
          "direction": "right",
          "showactive": true,
          "type": "buttons",
          "x": 0.7,
          "y": 1.2
         }
        ],
        "width": 1000,
        "xaxis": {
         "title": {
          "text": "Month"
         }
        },
        "yaxis": {
         "title": {
          "text": "Number of Bookings"
         }
        }
       }
      }
     },
     "metadata": {},
     "output_type": "display_data"
    }
   ],
   "source": [
    "import plotly.express as px\n",
    "import plotly.graph_objects as go\n",
    "from plotly.subplots import make_subplots\n",
    "fig = go.Figure()\n",
    "\n",
    "# Add traces, one for each hotel\n",
    "for hotel_type in df['hotel'].unique():\n",
    "    hotel_data = df[df['hotel'] == hotel_type]\n",
    "    monthly_counts = hotel_data['arrival_date_month'].value_counts().reset_index()\n",
    "    monthly_counts.columns = ['Month', 'Bookings']\n",
    "    \n",
    "    # Define month order\n",
    "    month_order = ['January', 'February', 'March', 'April', 'May', 'June',\n",
    "                   'July', 'August', 'September', 'October', 'November', 'December']\n",
    "    \n",
    "    monthly_counts['Month'] = pd.Categorical(monthly_counts['Month'], \n",
    "                                           categories=month_order, \n",
    "                                           ordered=True)\n",
    "    monthly_counts = monthly_counts.sort_values('Month')\n",
    "    \n",
    "    fig.add_trace(\n",
    "        go.Bar(\n",
    "            name=hotel_type,\n",
    "            x=monthly_counts['Month'],\n",
    "            y=monthly_counts['Bookings'],\n",
    "            visible=True\n",
    "        )\n",
    "    )\n",
    "\n",
    "# Add buttons for hotel selection\n",
    "fig.update_layout(\n",
    "    updatemenus=[\n",
    "        dict(\n",
    "            type=\"buttons\",\n",
    "            direction=\"right\",\n",
    "            x=0.7,\n",
    "            y=1.2,\n",
    "            showactive=True,\n",
    "            buttons=list([\n",
    "                dict(\n",
    "                    label=\"All Hotels\",\n",
    "                    method=\"update\",\n",
    "                    args=[{\"visible\": [True, True]},\n",
    "                          {\"title\": \"All Hotels Booking Distribution\"}]),\n",
    "                dict(\n",
    "                    label=\"Resort Hotel\",\n",
    "                    method=\"update\",\n",
    "                    args=[{\"visible\": [True, False]},\n",
    "                          {\"title\": \"Resort Hotel Booking Distribution\"}]),\n",
    "                dict(\n",
    "                    label=\"City Hotel\",\n",
    "                    method=\"update\",\n",
    "                    args=[{\"visible\": [False, True]},\n",
    "                          {\"title\": \"City Hotel Booking Distribution\"}])\n",
    "            ]),\n",
    "        )\n",
    "    ]\n",
    ")\n",
    "\n",
    "# Update layout\n",
    "fig.update_layout(\n",
    "    title=\"Hotel Bookings Distribution\",\n",
    "    xaxis_title=\"Month\",\n",
    "    yaxis_title=\"Number of Bookings\",\n",
    "    barmode='group',\n",
    "    height=600,\n",
    "    width=1000,\n",
    "    showlegend=True\n",
    ")\n",
    "\n",
    "fig.show()"
   ]
  },
  {
   "cell_type": "markdown",
   "metadata": {},
   "source": [
    "# Dealing with missing values"
   ]
  },
  {
   "cell_type": "code",
   "execution_count": 44,
   "metadata": {
    "cell_id": "e9583467b5404300a82ae61fcd804e7a",
    "deepnote_cell_type": "code",
    "execution_context_id": "a49e79a0-47bb-4135-b22c-6f27ba43e434",
    "execution_millis": 104,
    "execution_start": 1730353446972,
    "source_hash": "2f6be67b"
   },
   "outputs": [
    {
     "name": "stdout",
     "output_type": "stream",
     "text": [
      "Missing values per column:\n",
      " children             4\n",
      "country            488\n",
      "agent            16340\n",
      "CPI_AVG            181\n",
      "INFLATION          181\n",
      "INFLATION_CHG      181\n",
      "CSMR_SENT          181\n",
      "UNRATE             181\n",
      "INTRSRT            181\n",
      "GDP                181\n",
      "FUEL_PRCS          181\n",
      "CPI_HOTELS         181\n",
      "US_GINI            181\n",
      "DIS_INC            181\n",
      "dtype: int64\n",
      "Total missing values: 18823\n"
     ]
    }
   ],
   "source": [
    "missing_values_count = df.isnull().sum()[df.isnull().sum()>0]\n",
    "total_missing = df.isnull().sum().sum() \n",
    "\n",
    "print(\"Missing values per column:\\n\", missing_values_count)\n",
    "print(\"Total missing values:\", total_missing)\n"
   ]
  },
  {
   "cell_type": "markdown",
   "metadata": {},
   "source": [
    "## Visualizing missing values in a column"
   ]
  },
  {
   "cell_type": "code",
   "execution_count": 45,
   "metadata": {},
   "outputs": [
    {
     "data": {
      "image/png": "[encoded data removed]",
      "text/plain": [
       "<Figure size 1200x600 with 1 Axes>"
      ]
     },
     "metadata": {},
     "output_type": "display_data"
    }
   ],
   "source": [
    "\n",
    "# Create figure with specified size\n",
    "plt.figure(figsize=(12, 6))\n",
    "\n",
    "# Create bar plot\n",
    "sns.barplot(x=missing_values_count.index, \n",
    "            y=missing_values_count.values,\n",
    "            hue=missing_values_count.index,\n",
    "            palette='viridis')\n",
    "\n",
    "# Customize the plot\n",
    "plt.xticks(rotation=45, ha='right')\n",
    "plt.title('Missing Values by Column')\n",
    "plt.xlabel('Columns')\n",
    "plt.ylabel('Number of Missing Values')\n",
    "\n",
    "# Adjust layout to prevent label cutoff\n",
    "plt.tight_layout()\n",
    "\n",
    "# Show the plot\n",
    "plt.show()"
   ]
  },
  {
   "cell_type": "markdown",
   "metadata": {
    "cell_id": "b75ec233d2d14610a2cd3c6fcca9f8ea",
    "deepnote_cell_type": "markdown"
   },
   "source": [
    "- The children column contains the number of children the guest will bring\n",
    "- We will asssume the null value means the guest has no children"
   ]
  },
  {
   "cell_type": "markdown",
   "metadata": {},
   "source": [
    "## Children Missing "
   ]
  },
  {
   "cell_type": "code",
   "execution_count": 46,
   "metadata": {
    "cell_id": "d3d2722b29bd450ba69face56b53f21d",
    "deepnote_cell_type": "code",
    "execution_context_id": "a49e79a0-47bb-4135-b22c-6f27ba43e434",
    "execution_millis": 1,
    "execution_start": 1730353447120,
    "source_hash": "9df8fa8c"
   },
   "outputs": [],
   "source": [
    "# Fill children column missing values\n",
    "# df['children'].fillna(0, inplace=True)\n",
    "df['children'] = df['children'].fillna(0)"
   ]
  },
  {
   "cell_type": "markdown",
   "metadata": {},
   "source": [
    "## Country missing"
   ]
  },
  {
   "cell_type": "code",
   "execution_count": 47,
   "metadata": {
    "cell_id": "a0a65cd204b54cc59678dba94686e012",
    "deepnote_cell_type": "code",
    "execution_context_id": "a49e79a0-47bb-4135-b22c-6f27ba43e434",
    "execution_millis": 1,
    "execution_start": 1730353447192,
    "source_hash": "6993f544"
   },
   "outputs": [
    {
     "name": "stdout",
     "output_type": "stream",
     "text": [
      "PRT\n"
     ]
    }
   ],
   "source": [
    "# Replace missing values with the mode of the column country\n",
    "mode_country = df['country'].mode()[0]\n",
    "print(mode_country)\n",
    "df['country'] = df['country'].fillna(mode_country)"
   ]
  },
  {
   "cell_type": "markdown",
   "metadata": {},
   "source": [
    "## Agent Missing"
   ]
  },
  {
   "cell_type": "code",
   "execution_count": 48,
   "metadata": {
    "cell_id": "565c1770488d4c8594f07ad7f0d3ce1b",
    "deepnote_cell_type": "code",
    "deepnote_table_loading": true,
    "deepnote_table_state": {
     "conditionalFilters": [],
     "filters": [],
     "pageIndex": 5,
     "pageSize": 10,
     "sortBy": [],
     "wrappedTextColumnIds": []
    },
    "execution_context_id": "a49e79a0-47bb-4135-b22c-6f27ba43e434",
    "execution_millis": 1,
    "execution_start": 1730353447244,
    "source_hash": "2b4716f1"
   },
   "outputs": [
    {
     "name": "stderr",
     "output_type": "stream",
     "text": [
      "C:\\Users\\salem\\AppData\\Local\\Temp\\ipykernel_28112\\2899670480.py:2: FutureWarning:\n",
      "\n",
      "Downcasting object dtype arrays on .fillna, .ffill, .bfill is deprecated and will change in a future version. Call result.infer_objects(copy=False) instead. To opt-in to the future behavior, set `pd.set_option('future.no_silent_downcasting', True)`\n",
      "\n"
     ]
    }
   ],
   "source": [
    "df['agent'] = df['agent'].astype('object')  # temporarily convert to object\n",
    "df['agent'] = df['agent'].fillna(0)\n",
    "\n",
    "df['agent'] = df['agent'].astype('category')"
   ]
  },
  {
   "cell_type": "code",
   "execution_count": 49,
   "metadata": {},
   "outputs": [
    {
     "data": {
      "text/html": [
       "<div>\n",
       "<style scoped>\n",
       "    .dataframe tbody tr th:only-of-type {\n",
       "        vertical-align: middle;\n",
       "    }\n",
       "\n",
       "    .dataframe tbody tr th {\n",
       "        vertical-align: top;\n",
       "    }\n",
       "\n",
       "    .dataframe thead th {\n",
       "        text-align: right;\n",
       "    }\n",
       "</style>\n",
       "<table border=\"1\" class=\"dataframe\">\n",
       "  <thead>\n",
       "    <tr style=\"text-align: right;\">\n",
       "      <th></th>\n",
       "      <th>agent</th>\n",
       "    </tr>\n",
       "  </thead>\n",
       "  <tbody>\n",
       "    <tr>\n",
       "      <th>0</th>\n",
       "      <td>0</td>\n",
       "    </tr>\n",
       "    <tr>\n",
       "      <th>1</th>\n",
       "      <td>0</td>\n",
       "    </tr>\n",
       "    <tr>\n",
       "      <th>2</th>\n",
       "      <td>0</td>\n",
       "    </tr>\n",
       "    <tr>\n",
       "      <th>3</th>\n",
       "      <td>304</td>\n",
       "    </tr>\n",
       "    <tr>\n",
       "      <th>4</th>\n",
       "      <td>240</td>\n",
       "    </tr>\n",
       "  </tbody>\n",
       "</table>\n",
       "</div>"
      ],
      "text/plain": [
       "  agent\n",
       "0     0\n",
       "1     0\n",
       "2     0\n",
       "3   304\n",
       "4   240"
      ]
     },
     "execution_count": 49,
     "metadata": {},
     "output_type": "execute_result"
    }
   ],
   "source": [
    "df[['agent']].head()"
   ]
  },
  {
   "cell_type": "markdown",
   "metadata": {
    "cell_id": "a68968fb8e8c44fa829ac59e4fb762d6",
    "deepnote_cell_type": "markdown"
   },
   "source": [
    "Replacing missing values with '0' of the column Agent as it states that no agent was involved in the booking"
   ]
  },
  {
   "cell_type": "code",
   "execution_count": 50,
   "metadata": {},
   "outputs": [
    {
     "name": "stdout",
     "output_type": "stream",
     "text": [
      "Missing values per column:\n",
      " CPI_AVG          181\n",
      "INFLATION        181\n",
      "INFLATION_CHG    181\n",
      "CSMR_SENT        181\n",
      "UNRATE           181\n",
      "INTRSRT          181\n",
      "GDP              181\n",
      "FUEL_PRCS        181\n",
      "CPI_HOTELS       181\n",
      "US_GINI          181\n",
      "DIS_INC          181\n",
      "dtype: int64\n",
      "Total missing values: 1991\n"
     ]
    }
   ],
   "source": [
    "missing_values_count = df.isnull().sum()[df.isnull().sum()>0]\n",
    "total_missing = df.isnull().sum().sum() \n",
    "\n",
    "print(\"Missing values per column:\\n\", missing_values_count)\n",
    "print(\"Total missing values:\", total_missing)"
   ]
  },
  {
   "cell_type": "code",
   "execution_count": 51,
   "metadata": {},
   "outputs": [
    {
     "data": {
      "image/png": "[encoded data removed]",
      "text/plain": [
       "<Figure size 1200x600 with 1 Axes>"
      ]
     },
     "metadata": {},
     "output_type": "display_data"
    }
   ],
   "source": [
    "\n",
    "# Create figure with specified size\n",
    "plt.figure(figsize=(12, 6))\n",
    "\n",
    "# Create bar plot\n",
    "sns.barplot(x=missing_values_count.index, \n",
    "            y=missing_values_count.values,\n",
    "            hue=missing_values_count.index,\n",
    "            palette='viridis')\n",
    "\n",
    "# Customize the plot\n",
    "plt.xticks(rotation=45, ha='right')\n",
    "plt.title('Missing Values by Column')\n",
    "plt.xlabel('Columns')\n",
    "plt.ylabel('Number of Missing Values')\n",
    "\n",
    "# Adjust layout to prevent label cutoff\n",
    "plt.tight_layout()\n",
    "\n",
    "# Show the plot\n",
    "plt.show()"
   ]
  },
  {
   "cell_type": "markdown",
   "metadata": {},
   "source": [
    "## CPI_AVG\n",
    "- replacing the null values in the CPI_AVG columns that indicates consumer price index average with mean as it maintains the dataset's overall balance and avoids skewing results"
   ]
  },
  {
   "cell_type": "code",
   "execution_count": 52,
   "metadata": {},
   "outputs": [
    {
     "name": "stdout",
     "output_type": "stream",
     "text": [
      "240.78065240879465\n"
     ]
    }
   ],
   "source": [
    "mean_CPI = df['CPI_AVG'].mean()\n",
    "print(mean_CPI)\n",
    "df['CPI_AVG'] = df['CPI_AVG'].fillna(mean_CPI)"
   ]
  },
  {
   "cell_type": "markdown",
   "metadata": {},
   "source": [
    "# Inflation\n",
    "- replacing null values in the Inflation column with Interpolation as it Estimates missing values based on surrounding data points, preserving the column’s natural trends over time"
   ]
  },
  {
   "cell_type": "code",
   "execution_count": 53,
   "metadata": {},
   "outputs": [
    {
     "name": "stdout",
     "output_type": "stream",
     "text": [
      "0\n"
     ]
    }
   ],
   "source": [
    "df['INFLATION'] = df['INFLATION'].interpolate(method='linear')\n",
    "print(df['INFLATION'].isnull().sum())\n"
   ]
  },
  {
   "cell_type": "markdown",
   "metadata": {},
   "source": [
    "# CSMR_SENT (costumer sentiment)\n"
   ]
  },
  {
   "cell_type": "code",
   "execution_count": 54,
   "metadata": {},
   "outputs": [
    {
     "name": "stdout",
     "output_type": "stream",
     "text": [
      "90.0\n"
     ]
    }
   ],
   "source": [
    "# Replace missing values with the mode of the column CSMR_SENT\n",
    "mode_csmr = df['CSMR_SENT'].mode()[0]\n",
    "print(mode_csmr)\n",
    "df['CSMR_SENT'] = df['CSMR_SENT'].fillna(mode_csmr)"
   ]
  },
  {
   "cell_type": "markdown",
   "metadata": {},
   "source": [
    "# UNRATE (Unemployment rate) \n",
    "- replacing the null values in the UNRATE column that indicates Unemployment rate with mean as it maintains the dataset's overall balance and avoids skewing results"
   ]
  },
  {
   "cell_type": "code",
   "execution_count": 55,
   "metadata": {},
   "outputs": [
    {
     "name": "stdout",
     "output_type": "stream",
     "text": [
      "4.827967687003499\n"
     ]
    }
   ],
   "source": [
    "Unrate_Mean = df['UNRATE'].mean()\n",
    "print(Unrate_Mean)\n",
    "df['UNRATE'] = df['UNRATE'].fillna(Unrate_Mean)"
   ]
  },
  {
   "cell_type": "code",
   "execution_count": 56,
   "metadata": {
    "cell_id": "7d9a7ccfe0b247569063f11ff7c262e1",
    "deepnote_cell_type": "code",
    "execution_context_id": "a49e79a0-47bb-4135-b22c-6f27ba43e434",
    "execution_millis": 187,
    "execution_start": 1730353447348,
    "source_hash": "ddf1a51f"
   },
   "outputs": [
    {
     "data": {
      "text/plain": [
       "Text(0, 0.5, 'Count')"
      ]
     },
     "execution_count": 56,
     "metadata": {},
     "output_type": "execute_result"
    },
    {
     "data": {
      "image/png": "[encoded data removed]",
      "text/plain": [
       "<Figure size 640x480 with 1 Axes>"
      ]
     },
     "metadata": {},
     "output_type": "display_data"
    }
   ],
   "source": [
    "plt.subplot(2, 3, 1)\n",
    "sns.countplot(data=df, x='is_canceled')\n",
    "plt.title('Booking Cancellation Distribution')\n",
    "plt.xlabel('Is Canceled')\n",
    "plt.ylabel('Count')"
   ]
  },
  {
   "cell_type": "code",
   "execution_count": 57,
   "metadata": {},
   "outputs": [
    {
     "name": "stdout",
     "output_type": "stream",
     "text": [
      "Classification Report:\n",
      "              precision    recall  f1-score   support\n",
      "\n",
      "       False       0.94      0.99      0.96     14907\n",
      "        True       0.98      0.90      0.93      8971\n",
      "\n",
      "    accuracy                           0.95     23878\n",
      "   macro avg       0.96      0.94      0.95     23878\n",
      "weighted avg       0.95      0.95      0.95     23878\n",
      "\n"
     ]
    },
    {
     "data": {
      "image/png": "[encoded data removed]",
      "text/plain": [
       "<Figure size 800x600 with 2 Axes>"
      ]
     },
     "metadata": {},
     "output_type": "display_data"
    },
    {
     "data": {
      "image/png": "[encoded data removed]",
      "text/plain": [
       "<Figure size 1200x600 with 1 Axes>"
      ]
     },
     "metadata": {},
     "output_type": "display_data"
    },
    {
     "name": "stdout",
     "output_type": "stream",
     "text": [
      "\n",
      "Top 20 Most Important Features:\n",
      "deposit_type: 0.1149\n",
      "lead_time: 0.0934\n",
      "arrival_date_week_number: 0.0837\n",
      "country: 0.0817\n",
      "adr: 0.0498\n",
      "total_of_special_requests: 0.0485\n",
      "arrival_date_month: 0.0446\n",
      "agent: 0.0398\n",
      "market_segment: 0.0360\n",
      "arrival_date_day_of_month: 0.0340\n",
      "previous_cancellations: 0.0299\n",
      "DIS_INC: 0.0263\n",
      "stays_in_week_nights: 0.0221\n",
      "CPI_AVG: 0.0208\n",
      "FUEL_PRCS: 0.0201\n",
      "assigned_room_type: 0.0200\n",
      "GDP: 0.0194\n",
      "arrival_date_year: 0.0188\n",
      "customer_type: 0.0183\n",
      "required_car_parking_spaces: 0.0182\n"
     ]
    }
   ],
   "source": [
    "import pandas as pd\n",
    "import numpy as np\n",
    "from sklearn.model_selection import train_test_split\n",
    "from sklearn.ensemble import RandomForestClassifier\n",
    "from sklearn.preprocessing import LabelEncoder\n",
    "from sklearn.metrics import classification_report, confusion_matrix\n",
    "import matplotlib.pyplot as plt\n",
    "import seaborn as sns\n",
    "\n",
    "def prepare_data(df):\n",
    "    # Create a copy to avoid modifying the original dataframe\n",
    "    df_model = df.copy()\n",
    "    \n",
    "    # Drop columns that shouldn't be used for prediction\n",
    "    columns_to_drop = ['reservation_status', 'reservation_status_date', 'MO_YR']\n",
    "    df_model = df_model.drop(columns=columns_to_drop, errors='ignore')\n",
    "    \n",
    "    \n",
    "    # Encode categorical variables\n",
    "    le = LabelEncoder()\n",
    "    for column in categorical_columns:\n",
    "        if column in df_model.columns:\n",
    "            df_model[column] = le.fit_transform(df_model[column].astype(str))\n",
    "    \n",
    "    return df_model\n",
    "\n",
    "def train_random_forest(X, y):\n",
    "    # Split the data\n",
    "    X_train, X_test, y_train, y_test = train_test_split(X, y, test_size=0.2, random_state=42)\n",
    "    \n",
    "    # Create and train the model\n",
    "    rf = RandomForestClassifier(n_estimators=100, random_state=42)\n",
    "    rf.fit(X_train, y_train)\n",
    "    \n",
    "    # Make predictions\n",
    "    y_pred = rf.predict(X_test)\n",
    "    \n",
    "    return rf, X_train, X_test, y_train, y_test, y_pred\n",
    "\n",
    "def plot_feature_importance(rf, feature_names):\n",
    "    # Get feature importance\n",
    "    importances = rf.feature_importances_\n",
    "    indices = np.argsort(importances)[::-1]\n",
    "    \n",
    "    # Plot the feature importances\n",
    "    plt.figure(figsize=(12, 6))\n",
    "    plt.title(\"Feature Importances for Hotel Booking Cancellation Prediction\")\n",
    "    plt.bar(range(20), importances[indices][:20])\n",
    "    plt.xticks(range(20), [feature_names[i] for i in indices][:20], rotation=45, ha='right')\n",
    "    plt.tight_layout()\n",
    "    plt.show()\n",
    "    \n",
    "    # Print numerical values\n",
    "    print(\"\\nTop 20 Most Important Features:\")\n",
    "    for i in range(20):\n",
    "        print(f\"{feature_names[indices[i]]}: {importances[indices[i]]:.4f}\")\n",
    "\n",
    "def analyze_cancellations():\n",
    "    # Prepare the data\n",
    "    df_model = prepare_data(df)\n",
    "    \n",
    "    # Separate features and target\n",
    "    X = df_model.drop('is_canceled', axis=1)\n",
    "    y = df_model['is_canceled']\n",
    "    \n",
    "    # Train the model and get predictions\n",
    "    rf, X_train, X_test, y_train, y_test, y_pred = train_random_forest(X, y)\n",
    "    \n",
    "    # Print model performance\n",
    "    print(\"Classification Report:\")\n",
    "    print(classification_report(y_test, y_pred))\n",
    "    \n",
    "    # Plot confusion matrix\n",
    "    plt.figure(figsize=(8, 6))\n",
    "    sns.heatmap(confusion_matrix(y_test, y_pred), annot=True, fmt='d', cmap='Blues')\n",
    "    plt.title('Confusion Matrix')\n",
    "    plt.ylabel('True Label')\n",
    "    plt.xlabel('Predicted Label')\n",
    "    plt.show()\n",
    "    \n",
    "    # Plot feature importance\n",
    "    plot_feature_importance(rf, X.columns)\n",
    "    \n",
    "    return rf, X, y\n",
    "\n",
    "# Run the analysis\n",
    "rf_model, X, y = analyze_cancellations()"
   ]
  },
  {
   "cell_type": "markdown",
   "metadata": {},
   "source": [
    "# Customer Segmentation"
   ]
  },
  {
   "cell_type": "code",
   "execution_count": 58,
   "metadata": {},
   "outputs": [
    {
     "name": "stdout",
     "output_type": "stream",
     "text": [
      "Will work on it lateer SIUUUUUU\n"
     ]
    }
   ],
   "source": [
    "print(\"Will work on it lateer SIUUUUUU\")"
   ]
  },
  {
   "cell_type": "code",
   "execution_count": null,
   "metadata": {},
   "outputs": [],
   "source": []
  }
 ],
 "metadata": {
  "deepnote_notebook_id": "cee640ee82924edbb73562cb91b49788",
  "kernelspec": {
   "display_name": "data_mining_env",
   "language": "python",
   "name": "python3"
  },
  "language_info": {
   "codemirror_mode": {
    "name": "ipython",
    "version": 3
   },
   "file_extension": ".py",
   "mimetype": "text/x-python",
   "name": "python",
   "nbconvert_exporter": "python",
   "pygments_lexer": "ipython3",
   "version": "3.12.7"
  }
 },
 "nbformat": 4,
 "nbformat_minor": 0
}
